{
 "cells": [
  {
   "cell_type": "markdown",
   "metadata": {},
   "source": [
    "Task 1:\n",
    "1.1\n",
    "Write a Python Program to implement your own myreduce() function which works exactly like\n",
    "Python's built-in function reduce()"
   ]
  },
  {
   "cell_type": "code",
   "execution_count": 46,
   "metadata": {},
   "outputs": [
    {
     "name": "stdout",
     "output_type": "stream",
     "text": [
      "19\n"
     ]
    }
   ],
   "source": [
    "def add(a,b):\n",
    "    return a+b\n",
    "\n",
    "def reduce(func,seq):\n",
    "    first = seq[0]\n",
    "    for i in seq[1:]:\n",
    "        first = func(first,i)\n",
    "    return first\n",
    "\n",
    "print(reduce(add,[1,3,4,5,6]))\n",
    "    "
   ]
  },
  {
   "cell_type": "markdown",
   "metadata": {},
   "source": [
    "Write a Python program to implement your own myfilter() function which works exactly like\n",
    "Python's built-in function filter()"
   ]
  },
  {
   "cell_type": "code",
   "execution_count": 43,
   "metadata": {},
   "outputs": [
    {
     "name": "stdout",
     "output_type": "stream",
     "text": [
      "[4, 8, 6, 4, 12, 46]\n"
     ]
    }
   ],
   "source": [
    "def even_check(num):\n",
    "    if num%2 == 0:\n",
    "        return True\n",
    "    else:\n",
    "        return False\n",
    "def my_filter(func,seq):\n",
    "    l=[]\n",
    "    for i in seq:\n",
    "        if func(i):\n",
    "            l.append(i)\n",
    "    return l\n",
    "        \n",
    "seq = [1,5,4,8,6,4,12,46,75,41]\n",
    "\n",
    "print(my_filter(even_check,seq))\n"
   ]
  },
  {
   "cell_type": "markdown",
   "metadata": {},
   "source": [
    "2.\n",
    "Implement List comprehensions to produce the following lists.\n",
    "Write List comprehensions to produce the following Lists\n",
    "['x', 'xx', 'xxx', 'xxxx', 'y', 'yy', 'yyy', 'yyyy', 'z', 'zz', 'zzz', 'zzzz']\n",
    "['x', 'y', 'z', 'xx', 'yy', 'zz', 'xx', 'yy', 'zz', 'xxxx', 'yyyy', 'zzzz']\n",
    "[[2], [3], [4], [3], [4], [5], [4], [5], [6]]\n",
    "[[2, 3, 4, 5], [3, 4, 5, 6], [4, 5, 6, 7], [5, 6, 7, 8]]\n",
    "[(1, 1), (2, 1), (3, 1), (1, 2), (2, 2), (3, 2), (1, 3), (2, 3), (3, 3)]"
   ]
  },
  {
   "cell_type": "code",
   "execution_count": 34,
   "metadata": {},
   "outputs": [
    {
     "name": "stdout",
     "output_type": "stream",
     "text": [
      "['x', 'xx', 'xxx', 'xxxx', 'y', 'yy', 'yyy', 'yyyy', 'z', 'zz', 'zzz', 'zzzz']\n",
      "['x', 'y', 'z', 'xx', 'yy', 'zz', 'xxx', 'yyy', 'zzz', 'xxxx', 'yyyy', 'zzzz']\n",
      "[[2], [3], [4], [3], [4], [5], [4], [5], [6]]\n",
      "[[2, 3, 4, 5], [3, 4, 5, 6], [4, 5, 6, 7], [5, 6, 7, 8]]\n",
      "[(1, 1), (2, 1), (3, 1), (1, 2), (2, 2), (3, 2), (1, 3), (2, 3), (3, 3)]\n"
     ]
    }
   ],
   "source": [
    "l1 = [\"x\",\"y\",\"z\"]\n",
    "l2 = [\"x\",\"y\",\"z\"]\n",
    "l3 = [2,3,4]\n",
    "l4 = [2,3,4,5]\n",
    "l5 = [1,2,3]\n",
    "\n",
    "l1result = [item*num for item in l1 for num in range(1,5)]\n",
    "print(str(l1result))\n",
    "\n",
    "l2result = [item*num for num in range(1,5) for item in l2]\n",
    "print(str(l2result))\n",
    "\n",
    "l3result = [[item + num] for item in l3 for  num in range(0,3)]\n",
    "print(l3result)\n",
    "\n",
    "l4result = [[item + num for item in l4] for num in range(0,4)]\n",
    "print(l4result)\n",
    "\n",
    "l5result = [(b,a) for a in l5 for b in l5]\n",
    "print(l5result)\n",
    "\n"
   ]
  },
  {
   "cell_type": "markdown",
   "metadata": {},
   "source": [
    "3.\n",
    "Implement a function longestWord() that takes a list of words and returns the longest one."
   ]
  },
  {
   "cell_type": "code",
   "execution_count": 48,
   "metadata": {},
   "outputs": [
    {
     "name": "stdout",
     "output_type": "stream",
     "text": [
      "Datascience\n"
     ]
    }
   ],
   "source": [
    "def find_longestword(words_lst):\n",
    "    word_len = []\n",
    "    for n in words_lst:\n",
    "        word_len.append((len(n),n))\n",
    "    word_len.sort()\n",
    "    return word_len[-1][1]\n",
    "\n",
    "print(find_longestword([\"megh\",\"meghpatel\",\"Datascience\"]))\n",
    "    \n"
   ]
  },
  {
   "cell_type": "markdown",
   "metadata": {},
   "source": [
    "Task 2:\n",
    "1.1\n",
    "Write a Python Program(with class concepts) to find the area of the triangle using the below\n",
    "formula.\n",
    "area = (s*(s-a)*(s-b)*(s-c)) ** 0.5\n",
    "Function to take the length of the sides of triangle from user should be defined in the parent\n",
    "class and function to calculate the area should be defined in subclass."
   ]
  },
  {
   "cell_type": "code",
   "execution_count": 71,
   "metadata": {},
   "outputs": [
    {
     "name": "stdout",
     "output_type": "stream",
     "text": [
      "Number of side is: 3\n",
      "14.696938456699069\n"
     ]
    }
   ],
   "source": [
    "class Main:\n",
    "\n",
    "    def __init__(self, n):\n",
    "        self.number_of_sides = n\n",
    "\n",
    "    def print_num_sides(self):\n",
    "        print('Number of side is: ' + str(self.number_of_sides))\n",
    "        \n",
    "class Triangle(Main):\n",
    "\n",
    "    def __init__(self, lengths_of_sides):\n",
    "        Main.__init__(self, 3)\n",
    "        self.lengths_of_sides = lengths_of_sides\n",
    "\n",
    "    def area(self):\n",
    "        a, b, c = self.lengths_of_sides\n",
    "        s = (a + b + c) / 2\n",
    "        return (s*(s-a)*(s-b)*(s-c)) ** 0.5\n",
    "    \n",
    "p = Main(3)\n",
    "p.print_num_sides()\n",
    "\n",
    "tri = Triangle([5, 6, 7])\n",
    "print(tri.area())\n",
    "    \n",
    "    "
   ]
  },
  {
   "cell_type": "markdown",
   "metadata": {},
   "source": [
    "1.2\n",
    "Write a function filter_long_words() that takes a list of words and an integer n and returns the list\n",
    "of words that are longer than n."
   ]
  },
  {
   "cell_type": "code",
   "execution_count": 17,
   "metadata": {},
   "outputs": [
    {
     "name": "stdout",
     "output_type": "stream",
     "text": [
      "['Megh Patel', 'DataScience']\n"
     ]
    }
   ],
   "source": [
    "def filter_long_words(words,number):\n",
    "    \n",
    "    listofwords = []\n",
    "    for i in range(len(words)):\n",
    "        if len(words[i])>number:\n",
    "            listofwords.append(words[i])\n",
    "    return listofwords\n",
    "    \n",
    "print(filter_long_words([\"megh\", \"Megh Patel\", \"DataScience\"],5))"
   ]
  },
  {
   "cell_type": "code",
   "execution_count": 15,
   "metadata": {},
   "outputs": [
    {
     "name": "stdout",
     "output_type": "stream",
     "text": [
      "['Data science']\n"
     ]
    }
   ],
   "source": [
    "def filterlongword(string,number):\n",
    "    return [word for word in string if len(word)>number]\n",
    "\n",
    "print(filterlongword([\"megh\",\"Megh Patel\",\"Data science\"],10))"
   ]
  },
  {
   "cell_type": "markdown",
   "metadata": {},
   "source": [
    "Write a Python program using function concept that maps list of words into a list of integers\n",
    "representing the lengths of the corresponding words."
   ]
  },
  {
   "cell_type": "code",
   "execution_count": 21,
   "metadata": {},
   "outputs": [
    {
     "name": "stdout",
     "output_type": "stream",
     "text": [
      "[6, 10, 4]\n"
     ]
    }
   ],
   "source": [
    "def maps(words):\n",
    "    lengthofwords = []\n",
    "    for i in words:\n",
    "        lengthofwords.append(len(i))\n",
    "    return lengthofwords\n",
    "\n",
    "print(maps([\"Python\",\"Statistics\",\"Megh\"]))"
   ]
  },
  {
   "cell_type": "markdown",
   "metadata": {},
   "source": [
    "Write a Python function which takes a character (i.e. a string of length 1) and returns True if it is\n",
    "a vowel, False otherwise."
   ]
  },
  {
   "cell_type": "code",
   "execution_count": 30,
   "metadata": {},
   "outputs": [
    {
     "name": "stdout",
     "output_type": "stream",
     "text": [
      "False\n"
     ]
    }
   ],
   "source": [
    "def check_vowels(word):\n",
    "    allvowels = (\"a\",\"e\",\"i\",\"o\",\"u\",\"A\",\"E\",\"I\",\"O\",\"U\")\n",
    "    if word not in allvowels:\n",
    "        return False\n",
    "    else:\n",
    "        return True\n",
    "    \n",
    "print(check_vowels(\"m\"))"
   ]
  }
 ],
 "metadata": {
  "kernelspec": {
   "display_name": "Python 3",
   "language": "python",
   "name": "python3"
  },
  "language_info": {
   "codemirror_mode": {
    "name": "ipython",
    "version": 3
   },
   "file_extension": ".py",
   "mimetype": "text/x-python",
   "name": "python",
   "nbconvert_exporter": "python",
   "pygments_lexer": "ipython3",
   "version": "3.7.4"
  }
 },
 "nbformat": 4,
 "nbformat_minor": 2
}
